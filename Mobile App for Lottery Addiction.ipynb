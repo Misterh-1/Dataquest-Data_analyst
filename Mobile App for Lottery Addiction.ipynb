{
 "cells": [
  {
   "cell_type": "markdown",
   "metadata": {},
   "source": [
    "# Guided Project: Mobile App for Lottery Addiction"
   ]
  },
  {
   "cell_type": "markdown",
   "metadata": {},
   "source": [
    "Many people start playing the lottery for fun, but for some this activity turns into a habit which eventually escalates into addiction. Like other compulsive gamblers, lottery addicts soon begin spending from their savings and loans, they start to accumulate debts, and eventually engage in desperate behaviors like theft.\n",
    "\n",
    "A medical institute that aims to prevent and treat gambling addictions wants to build a dedicated mobile app to help lottery addicts better estimate their chances of winning. The institute has a team of engineers that will build the app, but they need us to create the logical core of the app and calculate probabilities.\n",
    "\n",
    "For the first version of the app, they want us to focus on the [6/49 lottery](https://en.wikipedia.org/wiki/Lotto_6/49) and build functions that enable users to answer questions like:\n",
    "- What is the probability of winning the big prize with a single ticket?\n",
    "- What is the probability of winning the big prize if we play 40 different tickets (or any other number)?\n",
    "- What is the probability of having at least five (or four, or three, or two) winning numbers on a single ticket?\n",
    "\n",
    "We will also consider historical data coming from the national 6/49 lottery game in Canada. [The data set](https://www.kaggle.com/datascienceai/lottery-dataset) has data for 3,665 drawings, dating from 1982 to 2018"
   ]
  },
  {
   "cell_type": "markdown",
   "metadata": {},
   "source": [
    "**CORE FUNCTIONS**"
   ]
  },
  {
   "cell_type": "markdown",
   "metadata": {},
   "source": [
    "In the 6/49 lottery, six numbers are drawn from a set of 49 numbers that range from 1 to 49. The drawing is done without replacement, which means once a number is drawn, it's not put back in the set.\n",
    "\n",
    "Throughout the project, we'll need to calculate repeatedly probabilities and combinations. As a consequence, we'll start by writing two functions that we'll use often:\n",
    "- A function that calculates factorials; and \n",
    "- A function that calculates combinations."
   ]
  },
  {
   "cell_type": "code",
   "execution_count": 1,
   "metadata": {
    "collapsed": true
   },
   "outputs": [],
   "source": [
    "def factorial(n):\n",
    "    result = 1\n",
    "    for i in range(n):\n",
    "        result *=  (n - i)\n",
    "    return result\n",
    "\n",
    "def combinations(n, k):\n",
    "    return factorial(n) / (factorial(k) * factorial(n - k))"
   ]
  },
  {
   "cell_type": "markdown",
   "metadata": {},
   "source": [
    "**ONE-TICKET PROBABILITY**"
   ]
  },
  {
   "cell_type": "markdown",
   "metadata": {},
   "source": [
    "We'll start by building a function that calculates the probability of winning the big prize for any given ticket. Some details we need be aware of are:\n",
    "\n",
    "- Inside the app, the user inputs six different numbers from 1 to 49.\n",
    "- Under the hood, the six numbers will come as a Python list, which will serve as the single input to our function.\n",
    "- The engineering team wants the function to print the probability value in a friendly way — in a way that people without any probability training are able to understand."
   ]
  },
  {
   "cell_type": "code",
   "execution_count": 2,
   "metadata": {
    "collapsed": false
   },
   "outputs": [],
   "source": [
    "def one_ticket_probability(num_list):\n",
    "    total_outcome = combinations(49, len(num_list))\n",
    "    probability = 1 / total_outcome\n",
    "    outcome_percentage = probability * 100\n",
    "    message = 'The chances for you to win the big prize with your set of six numbers are of {:.7f} %'\n",
    "    print(message.format(outcome_percentage), '\\n')"
   ]
  },
  {
   "cell_type": "markdown",
   "metadata": {},
   "source": [
    "Let's the function using few inputs."
   ]
  },
  {
   "cell_type": "code",
   "execution_count": 3,
   "metadata": {
    "collapsed": false,
    "scrolled": true
   },
   "outputs": [
    {
     "name": "stdout",
     "output_type": "stream",
     "text": [
      "The chances for you to win the big prize with your set of six numbers are of 0.0000072 % \n",
      "\n"
     ]
    }
   ],
   "source": [
    "input_1 = one_ticket_probability([55, 2, 63, 48, 7, 1])"
   ]
  },
  {
   "cell_type": "code",
   "execution_count": 4,
   "metadata": {
    "collapsed": false,
    "scrolled": true
   },
   "outputs": [
    {
     "name": "stdout",
     "output_type": "stream",
     "text": [
      "The chances for you to win the big prize with your set of six numbers are of 0.0000072 % \n",
      "\n"
     ]
    }
   ],
   "source": [
    "input_2 = one_ticket_probability([6, 49, 35, 12, 9, 2])"
   ]
  },
  {
   "cell_type": "markdown",
   "metadata": {},
   "source": [
    "From the results above, we see that each person that play the lottery has the same percentage of winning. It's also easy to notice how low this number is."
   ]
  },
  {
   "cell_type": "markdown",
   "metadata": {},
   "source": [
    "**HISTORICAL DATA CHECK FOR CANADA LOTTERY**"
   ]
  },
  {
   "cell_type": "markdown",
   "metadata": {},
   "source": [
    "For the first version of the app, users should be able to compare their ticket against the historical lottery data in Canada and determine whether they would have ever won by now.\n",
    "\n",
    "The data set contains historical data for 3,665 drawings (each row shows data for a single drawing), dating from 1982 to 2018. For each drawing, we can find the six numbers drawn in the following six columns:\n",
    "\n",
    "- NUMBER DRAWN 1\n",
    "- NUMBER DRAWN 2\n",
    "- NUMBER DRAWN 3\n",
    "- NUMBER DRAWN 4\n",
    "- NUMBER DRAWN 5\n",
    "- NUMBER DRAWN 6"
   ]
  },
  {
   "cell_type": "code",
   "execution_count": 5,
   "metadata": {
    "collapsed": true
   },
   "outputs": [],
   "source": [
    "import pandas as pd"
   ]
  },
  {
   "cell_type": "code",
   "execution_count": 6,
   "metadata": {
    "collapsed": false,
    "scrolled": true
   },
   "outputs": [
    {
     "name": "stdout",
     "output_type": "stream",
     "text": [
      "(rows numbers, columns number) :  (3665, 11)\n"
     ]
    }
   ],
   "source": [
    "# Read the data set\n",
    "six_four_nine = pd.read_csv('649.csv')\n",
    "\n",
    "print('(rows numbers, columns number) : ', six_four_nine.shape)"
   ]
  },
  {
   "cell_type": "code",
   "execution_count": 7,
   "metadata": {
    "collapsed": false,
    "scrolled": false
   },
   "outputs": [
    {
     "name": "stdout",
     "output_type": "stream",
     "text": [
      "\n",
      "- First 3 rows\n"
     ]
    },
    {
     "data": {
      "text/html": [
       "<div>\n",
       "<style scoped>\n",
       "    .dataframe tbody tr th:only-of-type {\n",
       "        vertical-align: middle;\n",
       "    }\n",
       "\n",
       "    .dataframe tbody tr th {\n",
       "        vertical-align: top;\n",
       "    }\n",
       "\n",
       "    .dataframe thead th {\n",
       "        text-align: right;\n",
       "    }\n",
       "</style>\n",
       "<table border=\"1\" class=\"dataframe\">\n",
       "  <thead>\n",
       "    <tr style=\"text-align: right;\">\n",
       "      <th></th>\n",
       "      <th>PRODUCT</th>\n",
       "      <th>DRAW NUMBER</th>\n",
       "      <th>SEQUENCE NUMBER</th>\n",
       "      <th>DRAW DATE</th>\n",
       "      <th>NUMBER DRAWN 1</th>\n",
       "      <th>NUMBER DRAWN 2</th>\n",
       "      <th>NUMBER DRAWN 3</th>\n",
       "      <th>NUMBER DRAWN 4</th>\n",
       "      <th>NUMBER DRAWN 5</th>\n",
       "      <th>NUMBER DRAWN 6</th>\n",
       "      <th>BONUS NUMBER</th>\n",
       "    </tr>\n",
       "  </thead>\n",
       "  <tbody>\n",
       "    <tr>\n",
       "      <th>0</th>\n",
       "      <td>649</td>\n",
       "      <td>1</td>\n",
       "      <td>0</td>\n",
       "      <td>6/12/1982</td>\n",
       "      <td>3</td>\n",
       "      <td>11</td>\n",
       "      <td>12</td>\n",
       "      <td>14</td>\n",
       "      <td>41</td>\n",
       "      <td>43</td>\n",
       "      <td>13</td>\n",
       "    </tr>\n",
       "    <tr>\n",
       "      <th>1</th>\n",
       "      <td>649</td>\n",
       "      <td>2</td>\n",
       "      <td>0</td>\n",
       "      <td>6/19/1982</td>\n",
       "      <td>8</td>\n",
       "      <td>33</td>\n",
       "      <td>36</td>\n",
       "      <td>37</td>\n",
       "      <td>39</td>\n",
       "      <td>41</td>\n",
       "      <td>9</td>\n",
       "    </tr>\n",
       "    <tr>\n",
       "      <th>2</th>\n",
       "      <td>649</td>\n",
       "      <td>3</td>\n",
       "      <td>0</td>\n",
       "      <td>6/26/1982</td>\n",
       "      <td>1</td>\n",
       "      <td>6</td>\n",
       "      <td>23</td>\n",
       "      <td>24</td>\n",
       "      <td>27</td>\n",
       "      <td>39</td>\n",
       "      <td>34</td>\n",
       "    </tr>\n",
       "  </tbody>\n",
       "</table>\n",
       "</div>"
      ],
      "text/plain": [
       "   PRODUCT  DRAW NUMBER  SEQUENCE NUMBER  DRAW DATE  NUMBER DRAWN 1  \\\n",
       "0      649            1                0  6/12/1982               3   \n",
       "1      649            2                0  6/19/1982               8   \n",
       "2      649            3                0  6/26/1982               1   \n",
       "\n",
       "   NUMBER DRAWN 2  NUMBER DRAWN 3  NUMBER DRAWN 4  NUMBER DRAWN 5  \\\n",
       "0              11              12              14              41   \n",
       "1              33              36              37              39   \n",
       "2               6              23              24              27   \n",
       "\n",
       "   NUMBER DRAWN 6  BONUS NUMBER  \n",
       "0              43            13  \n",
       "1              41             9  \n",
       "2              39            34  "
      ]
     },
     "execution_count": 7,
     "metadata": {},
     "output_type": "execute_result"
    }
   ],
   "source": [
    "print('\\n- First 3 rows')\n",
    "six_four_nine.head(3)"
   ]
  },
  {
   "cell_type": "code",
   "execution_count": 8,
   "metadata": {
    "collapsed": false
   },
   "outputs": [
    {
     "name": "stdout",
     "output_type": "stream",
     "text": [
      "\n",
      "- Last 3 rows\n"
     ]
    },
    {
     "data": {
      "text/html": [
       "<div>\n",
       "<style scoped>\n",
       "    .dataframe tbody tr th:only-of-type {\n",
       "        vertical-align: middle;\n",
       "    }\n",
       "\n",
       "    .dataframe tbody tr th {\n",
       "        vertical-align: top;\n",
       "    }\n",
       "\n",
       "    .dataframe thead th {\n",
       "        text-align: right;\n",
       "    }\n",
       "</style>\n",
       "<table border=\"1\" class=\"dataframe\">\n",
       "  <thead>\n",
       "    <tr style=\"text-align: right;\">\n",
       "      <th></th>\n",
       "      <th>PRODUCT</th>\n",
       "      <th>DRAW NUMBER</th>\n",
       "      <th>SEQUENCE NUMBER</th>\n",
       "      <th>DRAW DATE</th>\n",
       "      <th>NUMBER DRAWN 1</th>\n",
       "      <th>NUMBER DRAWN 2</th>\n",
       "      <th>NUMBER DRAWN 3</th>\n",
       "      <th>NUMBER DRAWN 4</th>\n",
       "      <th>NUMBER DRAWN 5</th>\n",
       "      <th>NUMBER DRAWN 6</th>\n",
       "      <th>BONUS NUMBER</th>\n",
       "    </tr>\n",
       "  </thead>\n",
       "  <tbody>\n",
       "    <tr>\n",
       "      <th>3662</th>\n",
       "      <td>649</td>\n",
       "      <td>3589</td>\n",
       "      <td>0</td>\n",
       "      <td>6/13/2018</td>\n",
       "      <td>6</td>\n",
       "      <td>22</td>\n",
       "      <td>24</td>\n",
       "      <td>31</td>\n",
       "      <td>32</td>\n",
       "      <td>34</td>\n",
       "      <td>16</td>\n",
       "    </tr>\n",
       "    <tr>\n",
       "      <th>3663</th>\n",
       "      <td>649</td>\n",
       "      <td>3590</td>\n",
       "      <td>0</td>\n",
       "      <td>6/16/2018</td>\n",
       "      <td>2</td>\n",
       "      <td>15</td>\n",
       "      <td>21</td>\n",
       "      <td>31</td>\n",
       "      <td>38</td>\n",
       "      <td>49</td>\n",
       "      <td>8</td>\n",
       "    </tr>\n",
       "    <tr>\n",
       "      <th>3664</th>\n",
       "      <td>649</td>\n",
       "      <td>3591</td>\n",
       "      <td>0</td>\n",
       "      <td>6/20/2018</td>\n",
       "      <td>14</td>\n",
       "      <td>24</td>\n",
       "      <td>31</td>\n",
       "      <td>35</td>\n",
       "      <td>37</td>\n",
       "      <td>48</td>\n",
       "      <td>17</td>\n",
       "    </tr>\n",
       "  </tbody>\n",
       "</table>\n",
       "</div>"
      ],
      "text/plain": [
       "      PRODUCT  DRAW NUMBER  SEQUENCE NUMBER  DRAW DATE  NUMBER DRAWN 1  \\\n",
       "3662      649         3589                0  6/13/2018               6   \n",
       "3663      649         3590                0  6/16/2018               2   \n",
       "3664      649         3591                0  6/20/2018              14   \n",
       "\n",
       "      NUMBER DRAWN 2  NUMBER DRAWN 3  NUMBER DRAWN 4  NUMBER DRAWN 5  \\\n",
       "3662              22              24              31              32   \n",
       "3663              15              21              31              38   \n",
       "3664              24              31              35              37   \n",
       "\n",
       "      NUMBER DRAWN 6  BONUS NUMBER  \n",
       "3662              34            16  \n",
       "3663              49             8  \n",
       "3664              48            17  "
      ]
     },
     "execution_count": 8,
     "metadata": {},
     "output_type": "execute_result"
    }
   ],
   "source": [
    "print('\\n- Last 3 rows')\n",
    "six_four_nine.tail(3)"
   ]
  },
  {
   "cell_type": "markdown",
   "metadata": {},
   "source": [
    "**FUCNTION FOR HISTORICAL DATA CHECK**"
   ]
  },
  {
   "cell_type": "markdown",
   "metadata": {},
   "source": [
    "On this screen, we're going to write a function that will enable users to compare their ticket against the historical lottery data in Canada and determine whether they would have ever won by now.\n",
    "\n",
    "On top of what previously stated, the engineering team wants the fucntion to print:\n",
    "- the number of times the combination selected occurred in the Canada data set; and\n",
    "- the probability of winning the big prize in the next drawing with that combination."
   ]
  },
  {
   "cell_type": "code",
   "execution_count": 9,
   "metadata": {
    "collapsed": false
   },
   "outputs": [
    {
     "data": {
      "text/plain": [
       "0        {3, 41, 11, 12, 43, 14, 13}\n",
       "1         {33, 36, 37, 39, 8, 41, 9}\n",
       "2         {1, 34, 6, 39, 23, 24, 27}\n",
       "3         {34, 3, 9, 10, 43, 13, 20}\n",
       "4        {34, 5, 45, 14, 47, 21, 31}\n",
       "5        {33, 8, 41, 20, 21, 25, 31}\n",
       "6        {33, 36, 7, 42, 18, 25, 28}\n",
       "7        {7, 40, 16, 17, 48, 26, 31}\n",
       "8        {33, 5, 38, 37, 10, 23, 27}\n",
       "9         {3, 4, 37, 46, 15, 48, 30}\n",
       "10        {33, 38, 7, 9, 42, 45, 21}\n",
       "11       {36, 9, 11, 43, 17, 19, 20}\n",
       "12       {34, 37, 7, 14, 47, 17, 20}\n",
       "13       {35, 3, 44, 25, 28, 29, 30}\n",
       "14       {36, 39, 8, 41, 47, 18, 31}\n",
       "15       {9, 12, 13, 14, 44, 48, 18}\n",
       "16        {4, 5, 40, 43, 44, 14, 18}\n",
       "17      {34, 35, 36, 13, 16, 18, 26}\n",
       "18      {36, 11, 23, 25, 27, 28, 29}\n",
       "19       {37, 7, 39, 45, 18, 23, 25}\n",
       "20      {37, 41, 11, 45, 18, 19, 31}\n",
       "21       {8, 45, 14, 16, 48, 18, 31}\n",
       "22       {4, 41, 11, 45, 23, 24, 25}\n",
       "23        {33, 34, 3, 4, 39, 48, 19}\n",
       "24       {36, 5, 43, 17, 21, 28, 30}\n",
       "25       {36, 6, 38, 46, 17, 24, 29}\n",
       "26         {3, 4, 9, 10, 11, 43, 46}\n",
       "27       {32, 33, 36, 7, 13, 45, 23}\n",
       "28      {35, 37, 42, 11, 18, 22, 28}\n",
       "29      {35, 12, 45, 48, 25, 26, 31}\n",
       "                    ...             \n",
       "3635     {2, 39, 10, 43, 44, 48, 28}\n",
       "3636      {1, 33, 9, 10, 43, 19, 21}\n",
       "3637    {35, 43, 44, 46, 16, 17, 49}\n",
       "3638       {1, 5, 39, 9, 41, 12, 28}\n",
       "3639      {5, 9, 11, 45, 49, 28, 30}\n",
       "3640    {39, 11, 12, 46, 19, 24, 28}\n",
       "3641      {3, 7, 43, 47, 48, 22, 26}\n",
       "3642        {34, 4, 6, 8, 9, 40, 13}\n",
       "3643    {32, 36, 40, 47, 49, 18, 22}\n",
       "3644      {32, 33, 3, 7, 41, 10, 43}\n",
       "3645      {1, 36, 9, 11, 48, 49, 19}\n",
       "3646    {38, 39, 12, 17, 19, 22, 27}\n",
       "3647     {41, 9, 12, 49, 19, 20, 30}\n",
       "3648     {6, 40, 10, 46, 14, 16, 15}\n",
       "3649    {33, 34, 10, 44, 46, 24, 31}\n",
       "3650      {4, 37, 36, 7, 49, 21, 28}\n",
       "3651     {33, 34, 4, 48, 18, 24, 26}\n",
       "3652    {32, 36, 37, 15, 17, 21, 24}\n",
       "3653     {34, 37, 6, 44, 13, 17, 21}\n",
       "3654     {39, 7, 46, 19, 21, 28, 30}\n",
       "3655    {34, 38, 44, 14, 15, 28, 30}\n",
       "3656      {4, 9, 42, 44, 15, 20, 31}\n",
       "3657     {2, 39, 12, 13, 44, 16, 23}\n",
       "3658     {38, 39, 9, 14, 17, 21, 22}\n",
       "3659     {32, 2, 40, 45, 49, 26, 29}\n",
       "3660    {35, 38, 40, 41, 10, 15, 23}\n",
       "3661    {36, 46, 47, 19, 25, 26, 31}\n",
       "3662     {32, 34, 6, 16, 22, 24, 31}\n",
       "3663      {2, 38, 8, 15, 49, 21, 31}\n",
       "3664    {35, 37, 14, 48, 17, 24, 31}\n",
       "Length: 3665, dtype: object"
      ]
     },
     "execution_count": 9,
     "metadata": {},
     "output_type": "execute_result"
    }
   ],
   "source": [
    "def extract_numbers(row):\n",
    "    winning_number = [row[4], row[5], row[6], row[7], row[8], row[9], row[10]]\n",
    "    return set(winning_number)\n",
    "\n",
    "winning_numbers = six_four_nine.apply(extract_numbers ,axis=1)\n",
    "winning_numbers"
   ]
  },
  {
   "cell_type": "code",
   "execution_count": 10,
   "metadata": {
    "collapsed": false
   },
   "outputs": [],
   "source": [
    "def check_historical_occurence(user_nums, winning_nums):\n",
    "    user_nums = set(user_nums)\n",
    "    bool_serie = winning_nums == user_nums\n",
    "    message = 'In past lottery, the number of time your choosing six numbers was a winning serie is {}'\n",
    "    print(message.format(bool_serie.sum()))\n",
    "    "
   ]
  },
  {
   "cell_type": "markdown",
   "metadata": {},
   "source": [
    "Let's do some tests on the function."
   ]
  },
  {
   "cell_type": "code",
   "execution_count": 11,
   "metadata": {
    "collapsed": false
   },
   "outputs": [
    {
     "name": "stdout",
     "output_type": "stream",
     "text": [
      "In past lottery, the number of time your choosing six numbers was a winning serie is 0\n"
     ]
    }
   ],
   "source": [
    "input_1 = check_historical_occurence([6, 49, 35, 12, 9, 2], winning_numbers)\n",
    "input_1"
   ]
  },
  {
   "cell_type": "code",
   "execution_count": 12,
   "metadata": {
    "collapsed": false
   },
   "outputs": [
    {
     "name": "stdout",
     "output_type": "stream",
     "text": [
      "In past lottery, the number of time your choosing six numbers was a winning serie is 1\n"
     ]
    }
   ],
   "source": [
    "# Actual winning numbers at leat once\n",
    "input_2 = check_historical_occurence([35, 43, 44, 46, 16, 17, 49], winning_numbers)\n",
    "input_2"
   ]
  },
  {
   "cell_type": "markdown",
   "metadata": {},
   "source": [
    "From the results above, we see that one of our test combination that we knew will work only appeared one time in the winning numbers. The combination we randomly choose was not a winning number. But, that does not mean it will ever be. Remember, the chances to have a winning number independant of the fact it was once one are of 0.0000072 % ."
   ]
  },
  {
   "cell_type": "markdown",
   "metadata": {},
   "source": [
    "**MULTI-TICKET PROBABILITY**"
   ]
  },
  {
   "cell_type": "markdown",
   "metadata": {},
   "source": [
    "Lottery addicts usually play more than one ticket on a single drawing, thinking that this might increase their chances of winning significantly. Our purpose is to help them better estimate their chances of winning.\n",
    "\n",
    "We're going to write a function that will allow the users to calculate the chances of winning for any number of different tickets.\n",
    "\n",
    "We've talked with the engineering team and they gave us the following information:\n",
    "\n",
    "- The user will input the number of different tickets they want to play (without inputting the specific combinations they intend to play).\n",
    "- Our function will see an integer between 1 and 13,983,816 (the maximum number of different tickets).\n",
    "- The function should print information about the probability of winning the big prize depending on the number of different tickets played."
   ]
  },
  {
   "cell_type": "code",
   "execution_count": 13,
   "metadata": {
    "collapsed": true
   },
   "outputs": [],
   "source": [
    "def multi_ticket_probability(ticket_num):\n",
    "    total_outcome = combinations(49, 6)\n",
    "    probability = ticket_num / total_outcome\n",
    "    outcome_percentage = probability * 100\n",
    "    message = '\\nThe chances for you to win the big prize with your {} purchased tickets are of {:.7f} %'\n",
    "    print(message.format(ticket_num, outcome_percentage), '\\n')\n",
    "    print('-----------------------------------')\n"
   ]
  },
  {
   "cell_type": "markdown",
   "metadata": {},
   "source": [
    "Let's test the function with the following input [1, 10, 100, 10000, 1000000, 6991908, 13983816]."
   ]
  },
  {
   "cell_type": "code",
   "execution_count": 14,
   "metadata": {
    "collapsed": false,
    "scrolled": true
   },
   "outputs": [
    {
     "name": "stdout",
     "output_type": "stream",
     "text": [
      "\n",
      "The chances for you to win the big prize with your 1 purchased tickets are of 0.0000072 % \n",
      "\n",
      "-----------------------------------\n",
      "\n",
      "The chances for you to win the big prize with your 10 purchased tickets are of 0.0000715 % \n",
      "\n",
      "-----------------------------------\n",
      "\n",
      "The chances for you to win the big prize with your 100 purchased tickets are of 0.0007151 % \n",
      "\n",
      "-----------------------------------\n",
      "\n",
      "The chances for you to win the big prize with your 10000 purchased tickets are of 0.0715112 % \n",
      "\n",
      "-----------------------------------\n",
      "\n",
      "The chances for you to win the big prize with your 1000000 purchased tickets are of 7.1511238 % \n",
      "\n",
      "-----------------------------------\n",
      "\n",
      "The chances for you to win the big prize with your 6991908 purchased tickets are of 50.0000000 % \n",
      "\n",
      "-----------------------------------\n",
      "\n",
      "The chances for you to win the big prize with your 13983816 purchased tickets are of 100.0000000 % \n",
      "\n",
      "-----------------------------------\n"
     ]
    }
   ],
   "source": [
    "ticket_size = [1, 10, 100, 10000, 1000000, 6991908, 13983816]\n",
    "for number in ticket_size:\n",
    "    multi_ticket_probability(number)\n",
    "    "
   ]
  },
  {
   "cell_type": "markdown",
   "metadata": {},
   "source": [
    "From the results above, we see that more an user buy tickets for the same lottery, more the chances he has to win the big prize. But, to even have a least 50% chances to win, someone needs to buy at least half of the tickets available which is half of the possible combinations (6991908). That represents a lot of money spent for just a 50-50 chance of winning even if the lottery ticket were cheap."
   ]
  },
  {
   "cell_type": "markdown",
   "metadata": {},
   "source": [
    "**LESS WINNING nUMBERS--FUNCTION**"
   ]
  },
  {
   "cell_type": "markdown",
   "metadata": {},
   "source": [
    "For extra context, in most 6/49 lotteries there are smaller prizes if a player's ticket match two, three, four, or five of the six numbers drawn. As a consequence, the users might be interested in knowing the probability of having two, three, four, or five winning numbers.\n",
    "\n",
    "These are the engineering details we'll need to be aware of:\n",
    "\n",
    "- Inside the app, the user inputs:\n",
    "    - six different numbers from 1 to 49; and\n",
    "    - an integer between 2 and 5 that represents the number of winning numbers expected\n",
    "- Our function prints information about the probability of having the inputted number of winning numbers.\n",
    "\n",
    "We're going to write one more function to allow the users to calculate probabilities for two, three, four, or five winning numbers."
   ]
  },
  {
   "cell_type": "code",
   "execution_count": 15,
   "metadata": {
    "collapsed": true
   },
   "outputs": [],
   "source": [
    "def probability_less_6(integer):\n",
    "    total_outcomes = combinations(49, 6)\n",
    "    n_combinations_ticket = combinations(6, integer)\n",
    "    n_combinations_remaining = combinations(43, 6 - integer)\n",
    "    successful_outcomes = n_combinations_ticket * n_combinations_remaining\n",
    "    outcome_percentage = (successful_outcomes / total_outcomes) * 100\n",
    "    \n",
    "    message = '\\nThe chances for you to have exactly {} winning numbers are of {:.7f} %'\n",
    "    print(message.format(integer, outcome_percentage), '\\n')\n",
    "    print('-----------------------------------')\n"
   ]
  },
  {
   "cell_type": "markdown",
   "metadata": {},
   "source": [
    "Let's test the function with the following input [2, 3, 4, 5]."
   ]
  },
  {
   "cell_type": "code",
   "execution_count": 16,
   "metadata": {
    "collapsed": false,
    "scrolled": true
   },
   "outputs": [
    {
     "name": "stdout",
     "output_type": "stream",
     "text": [
      "\n",
      "The chances for you to have exactly 2 winning numbers are of 13.2378029 % \n",
      "\n",
      "-----------------------------------\n",
      "\n",
      "The chances for you to have exactly 3 winning numbers are of 1.7650404 % \n",
      "\n",
      "-----------------------------------\n",
      "\n",
      "The chances for you to have exactly 4 winning numbers are of 0.0968620 % \n",
      "\n",
      "-----------------------------------\n",
      "\n",
      "The chances for you to have exactly 5 winning numbers are of 0.0018450 % \n",
      "\n",
      "-----------------------------------\n"
     ]
    }
   ],
   "source": [
    "possible_inputs = [2, 3, 4, 5]\n",
    "for num in possible_inputs:\n",
    "    probability_less_6(num)"
   ]
  },
  {
   "cell_type": "markdown",
   "metadata": {},
   "source": [
    "We can deduce from the results above that an user has better chances to winning something by chosing 2 winning number even if the chances are still low."
   ]
  }
 ],
 "metadata": {
  "kernelspec": {
   "display_name": "Python 3",
   "language": "python",
   "name": "python3"
  },
  "language_info": {
   "codemirror_mode": {
    "name": "ipython",
    "version": 3
   },
   "file_extension": ".py",
   "mimetype": "text/x-python",
   "name": "python",
   "nbconvert_exporter": "python",
   "pygments_lexer": "ipython3",
   "version": "3.4.3"
  }
 },
 "nbformat": 4,
 "nbformat_minor": 2
}
